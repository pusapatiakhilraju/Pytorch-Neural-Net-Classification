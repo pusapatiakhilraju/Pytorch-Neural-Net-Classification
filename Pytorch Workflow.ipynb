{
 "cells": [
  {
   "cell_type": "code",
   "execution_count": 25,
   "metadata": {},
   "outputs": [],
   "source": [
    "import torch\n",
    "import numpy as np\n",
    "import pandas as pd\n",
    "from matplotlib import pyplot as plt\n",
    "import os\n",
    "from torch import nn # contains all the building blocks for neural networks"
   ]
  },
  {
   "attachments": {},
   "cell_type": "markdown",
   "metadata": {},
   "source": [
    "# Data Preperation\n"
   ]
  },
  {
   "cell_type": "code",
   "execution_count": 40,
   "metadata": {},
   "outputs": [],
   "source": [
    "# create a linear regression like\n",
    "weights = 0.7\n",
    "bias = 0.3\n",
    "\n",
    "start = 0\n",
    "end = 1\n",
    "step = 0.02\n",
    "X = torch.arange(start,end,step).unsqueeze(dim=1)\n",
    "y = weights * X + bias"
   ]
  },
  {
   "cell_type": "markdown",
   "metadata": {},
   "source": [
    "# Data Split To Train And Test Set"
   ]
  },
  {
   "cell_type": "code",
   "execution_count": 41,
   "metadata": {},
   "outputs": [],
   "source": [
    "train_split = int(0.8 * len(X))\n",
    "X_train, y_train = X[:train_split], y[:train_split]\n",
    "X_test, y_test = X[train_split:], y[train_split:]\n",
    "\n",
    " "
   ]
  },
  {
   "attachments": {},
   "cell_type": "markdown",
   "metadata": {},
   "source": [
    "# Data Visualisation"
   ]
  },
  {
   "cell_type": "code",
   "execution_count": 42,
   "metadata": {},
   "outputs": [],
   "source": [
    "def plot_predictions(train_data = X_train, train_labels = y_train, test_data = X_test, test_labels = y_test, predictions = None):\n",
    "    plt.figure(figsize=(10,7))\n",
    "\n",
    "    # plot train data in blue\n",
    "    plt.scatter(train_data,train_labels, c = 'b', s = 4, label = 'Training Data')\n",
    "\n",
    "    # plot test data in green\n",
    "    plt.scatter(test_data,test_labels, c = 'g', s = 4, label = 'Test data')\n",
    "\n",
    "    # are there predictions?\n",
    "    if predictions != None:\n",
    "        plt.scatter(test_data,predictions, c = 'r', s =4, label = 'predictions')"
   ]
  },
  {
   "cell_type": "code",
   "execution_count": 43,
   "metadata": {},
   "outputs": [
    {
     "data": {
      "image/png": "[encoded data removed]",
      "text/plain": [
       "<Figure size 720x504 with 1 Axes>"
      ]
     },
     "metadata": {
      "needs_background": "light"
     },
     "output_type": "display_data"
    }
   ],
   "source": [
    "plot_predictions()"
   ]
  },
  {
   "cell_type": "markdown",
   "metadata": {},
   "source": [
    "# Build Model"
   ]
  },
  {
   "cell_type": "code",
   "execution_count": 44,
   "metadata": {},
   "outputs": [],
   "source": [
    "from torch import nn\n",
    "\n",
    "# Creating a Linear Regression Class\n",
    "class LinearRegressionClass(nn.Module):\n",
    "    def __init__(self):\n",
    "        super().__init__()\n",
    "        self.weights = nn.Parameter(torch.randn(1, requires_grad=True, dtype=torch.float))\n",
    "        self.bias = nn.Parameter(torch.randn(1, requires_grad=True, dtype=torch.float))\n",
    "\n",
    "    \n",
    "    # to define the computation in the model\n",
    "    def forward(self, x:torch.tensor) -> torch.tensor:\n",
    "        return self.weights * x + self.bias \n",
    "\n"
   ]
  },
  {
   "cell_type": "markdown",
   "metadata": {},
   "source": [
    "# Checking the contents of Pytorch model\n",
    "use '.parameters' to check whats inside the model\n"
   ]
  },
  {
   "cell_type": "code",
   "execution_count": 45,
   "metadata": {},
   "outputs": [
    {
     "data": {
      "text/plain": [
       "OrderedDict([('weights', tensor([0.3367])), ('bias', tensor([0.1288]))])"
      ]
     },
     "execution_count": 45,
     "metadata": {},
     "output_type": "execute_result"
    }
   ],
   "source": [
    "# create a random seed to understand values\n",
    "torch.manual_seed(42)\n",
    "\n",
    "# create an object of Linear regression class\n",
    "model_0 = LinearRegressionClass()\n",
    "\n",
    "# check parameters\n",
    "list(model_0.parameters())\n",
    "\n",
    "# list of named parameters -> provides the dictionaries of the parameters of the mdodels\n",
    "model_0.state_dict()"
   ]
  },
  {
   "cell_type": "code",
   "execution_count": 46,
   "metadata": {},
   "outputs": [
    {
     "data": {
      "text/plain": [
       "(0.7, 0.3)"
      ]
     },
     "execution_count": 46,
     "metadata": {},
     "output_type": "execute_result"
    }
   ],
   "source": [
    "# premise of deep learning is to start with random values and get close to these actual values. \n",
    "weights, bias"
   ]
  },
  {
   "cell_type": "markdown",
   "metadata": {},
   "source": [
    "# Make predictions to check how bad the model is"
   ]
  },
  {
   "cell_type": "code",
   "execution_count": 52,
   "metadata": {},
   "outputs": [
    {
     "data": {
      "text/plain": [
       "tensor([[0.3982],\n",
       "        [0.4049],\n",
       "        [0.4116],\n",
       "        [0.4184],\n",
       "        [0.4251],\n",
       "        [0.4318],\n",
       "        [0.4386],\n",
       "        [0.4453],\n",
       "        [0.4520],\n",
       "        [0.4588]])"
      ]
     },
     "execution_count": 52,
     "metadata": {},
     "output_type": "execute_result"
    }
   ],
   "source": [
    "# use torch.inference_mode()\n",
    "with torch.inference_mode():\n",
    "    y_preds = model_0(X_test)\n",
    "\n",
    "y_preds"
   ]
  },
  {
   "cell_type": "code",
   "execution_count": 53,
   "metadata": {},
   "outputs": [
    {
     "data": {
      "image/png": "[encoded data removed]",
      "text/plain": [
       "<Figure size 720x504 with 1 Axes>"
      ]
     },
     "metadata": {
      "needs_background": "light"
     },
     "output_type": "display_data"
    }
   ],
   "source": [
    "# we can obsere that with the random weights and bias the predictions are very bad. \n",
    "plot_predictions(predictions = y_preds)"
   ]
  },
  {
   "cell_type": "markdown",
   "metadata": {},
   "source": [
    "# Training\n",
    "\n",
    "The whole idea of training is for model to move from unknown parameters to good parameters. Move from bad representation of data to good representation of data.\n",
    "\n",
    "Things we need to train:\n",
    "* **Loss function**: A function to measure how wrong the models predictions are to the ideal outputs. Lower is better\n",
    "* **optimizer**: Takes into account the loss of a model and adjust the parameters(weights and biases) to improve the loss the function.\n",
    "    * inside the optimizer you have two set of parameters:\n",
    "        * params - the model parameters that you would like to optimize\n",
    "        * learning rate  - how big the each step needs to be while optimizing.\n",
    "\n",
    "In Pytorch we need:\n",
    "* Training loop\n",
    "* Testing loop\n",
    "\n",
    "Training loop: \n",
    "1. Loop through the data\n",
    "2. set to training mode - this sets grad = true. It allows tracking of gradients.\n",
    "3. Forward pass\n",
    "4. Calculate the loss (compare the forward pass results with ground truth labels)\n",
    "5. Optimize the zero grad\n",
    "6. Loss backwards - move backwards through the network to calculate the gradients of each parameter with respect to the loss\n",
    "7. optimizer step - use the optimizer to adjust the parameters and improve the loss (** Gradient Descent **)\n"
   ]
  },
  {
   "cell_type": "code",
   "execution_count": 57,
   "metadata": {},
   "outputs": [],
   "source": [
    "# See the parameters\n",
    "model_0.state_dict()\n",
    "\n",
    "# set a loss function\n",
    "loss_fn = torch.nn.L1Loss()\n",
    "\n",
    "# create an optimizer\n",
    "optimizer = torch.optim.SGD(params=model_0.parameters(), lr = 0.01) # learning rate"
   ]
  },
  {
   "cell_type": "code",
   "execution_count": 82,
   "metadata": {},
   "outputs": [
    {
     "name": "stdout",
     "output_type": "stream",
     "text": [
      "loss:0.15922574698925018\n",
      "loss:0.21295955777168274\n",
      "loss:0.25517234206199646\n",
      "loss:0.2858641445636749\n",
      "loss:0.30503493547439575\n",
      "loss:0.3126847743988037\n",
      "loss:0.30881354212760925\n",
      "loss:0.29342132806777954\n",
      "loss:0.26650816202163696\n",
      "loss:0.22807392477989197\n",
      "loss:0.1781187355518341\n",
      "loss:0.1166425347328186\n",
      "loss:0.05414777994155884\n",
      "loss:0.055157650262117386\n",
      "loss:0.10798324644565582\n",
      "loss:0.16991813480854034\n",
      "loss:0.22033202648162842\n",
      "loss:0.25922495126724243\n",
      "loss:0.2865968346595764\n",
      "loss:0.30244773626327515\n",
      "loss:0.30677759647369385\n",
      "loss:0.29958653450012207\n",
      "loss:0.28087443113327026\n",
      "loss:0.2506413161754608\n",
      "loss:0.2088872194290161\n",
      "loss:0.15561212599277496\n",
      "loss:0.09351558983325958\n",
      "loss:0.054467786103487015\n",
      "loss:0.06683953106403351\n",
      "loss:0.13000808656215668\n",
      "loss:0.1882331669330597\n",
      "loss:0.23493726551532745\n",
      "loss:0.2701203525066376\n",
      "loss:0.29378247261047363\n",
      "loss:0.30592355132102966\n",
      "loss:0.3065436780452728\n",
      "loss:0.29564279317855835\n",
      "loss:0.27322086691856384\n",
      "loss:0.23927795886993408\n",
      "loss:0.19381406903266907\n",
      "loss:0.13682913780212402\n",
      "loss:0.07041874527931213\n",
      "loss:0.04904579371213913\n",
      "loss:0.08678470551967621\n",
      "loss:0.15065623819828033\n",
      "loss:0.20515525341033936\n",
      "loss:0.24813322722911835\n",
      "loss:0.2795902192592621\n",
      "loss:0.29952624440193176\n",
      "loss:0.3079412579536438\n",
      "loss:0.3048352599143982\n",
      "loss:0.29020825028419495\n",
      "loss:0.26406028866767883\n",
      "loss:0.22639131546020508\n",
      "loss:0.1772013008594513\n",
      "loss:0.11649030447006226\n",
      "loss:0.051508404314517975\n",
      "loss:0.04182476922869682\n",
      "loss:0.10817436873912811\n",
      "loss:0.1699734628200531\n",
      "loss:0.22025153040885925\n",
      "loss:0.25900864601135254\n",
      "loss:0.28624477982521057\n",
      "loss:0.3019598424434662\n",
      "loss:0.30615392327308655\n",
      "loss:0.29882702231407166\n",
      "loss:0.2799791097640991\n",
      "loss:0.24961018562316895\n",
      "loss:0.2077203094959259\n",
      "loss:0.15430939197540283\n",
      "loss:0.0893774926662445\n",
      "loss:0.017785068601369858\n",
      "loss:0.06809073686599731\n",
      "loss:0.13758505880832672\n",
      "loss:0.1955583691596985\n",
      "loss:0.2420106828212738\n",
      "loss:0.2769419550895691\n",
      "loss:0.3003522753715515\n",
      "loss:0.3122415542602539\n",
      "loss:0.31260988116264343\n",
      "loss:0.30145716667175293\n",
      "loss:0.27878350019454956\n",
      "loss:0.24458880722522736\n",
      "loss:0.19887308776378632\n",
      "loss:0.14163638651371002\n",
      "loss:0.07287868857383728\n",
      "loss:0.010588731616735458\n",
      "loss:0.08241508901119232\n",
      "loss:0.14590919017791748\n",
      "loss:0.1978822946548462\n",
      "loss:0.23833437263965607\n",
      "loss:0.2672654688358307\n",
      "loss:0.2846755385398865\n",
      "loss:0.290564626455307\n",
      "loss:0.2849327623844147\n",
      "loss:0.2677798271179199\n",
      "loss:0.2391059696674347\n",
      "loss:0.19891104102134705\n",
      "loss:0.14719513058662415\n",
      "loss:0.0839582160115242\n"
     ]
    }
   ],
   "source": [
    "# Building a training loop\n",
    "# epoch is one loop through the data\n",
    "epochs = 100\n",
    "for epoch in range(epochs):\n",
    "    # set the model to training model. this sets grad = True\n",
    "    model_0.train()\n",
    "\n",
    "    # forward pass\n",
    "    y_pred = model_0.forward(X_train)\n",
    "\n",
    "    # calculate loss \n",
    "    loss = loss_fn(y_pred, y_train)\n",
    "\n",
    "    # optimizer grad zero\n",
    "    optimizer.zero_grad\n",
    "\n",
    "    # perform back propogation on loss\n",
    "    loss.backward()\n",
    "\n",
    "    # step the optimizer (gradient descent)\n",
    "    optimizer.step() # by default the optimizer changes will accumulate through the loop..so we need to zero them before the next iteration of the loop\n"
   ]
  },
  {
   "cell_type": "code",
   "execution_count": 85,
   "metadata": {},
   "outputs": [],
   "source": [
    "with torch.inference_mode():\n",
    "    new_pred2 = model_0(X_test)"
   ]
  },
  {
   "cell_type": "code",
   "execution_count": 86,
   "metadata": {},
   "outputs": [
    {
     "data": {
      "image/png": "[encoded data removed]",
      "text/plain": [
       "<Figure size 720x504 with 1 Axes>"
      ]
     },
     "metadata": {
      "needs_background": "light"
     },
     "output_type": "display_data"
    }
   ],
   "source": [
    "plot_predictions(predictions=new_pred2)"
   ]
  },
  {
   "cell_type": "code",
   "execution_count": null,
   "metadata": {},
   "outputs": [],
   "source": []
  }
 ],
 "metadata": {
  "kernelspec": {
   "display_name": "Python 3",
   "language": "python",
   "name": "python3"
  },
  "language_info": {
   "codemirror_mode": {
    "name": "ipython",
    "version": 3
   },
   "file_extension": ".py",
   "mimetype": "text/x-python",
   "name": "python",
   "nbconvert_exporter": "python",
   "pygments_lexer": "ipython3",
   "version": "3.9.0"
  },
  "orig_nbformat": 4,
  "vscode": {
   "interpreter": {
    "hash": "aee8b7b246df8f9039afb4144a1f6fd8d2ca17a180786b69acc140d282b71a49"
   }
  }
 },
 "nbformat": 4,
 "nbformat_minor": 2
}
