{
 "cells": [
  {
   "cell_type": "code",
   "execution_count": 1,
   "metadata": {},
   "outputs": [],
   "source": [
    "import torch\n",
    "import numpy as np\n",
    "import pandas as pd\n",
    "from matplotlib import pyplot as plt\n",
    "import os\n",
    "from torch import nn # contains all the building blocks for neural networks"
   ]
  },
  {
   "attachments": {},
   "cell_type": "markdown",
   "metadata": {},
   "source": [
    "# Data Preperation\n"
   ]
  },
  {
   "cell_type": "code",
   "execution_count": 2,
   "metadata": {},
   "outputs": [],
   "source": [
    "# create a linear regression like\n",
    "weights = 0.7\n",
    "bias = 0.3\n",
    "\n",
    "start = 0\n",
    "end = 1\n",
    "step = 0.02\n",
    "X = torch.arange(start,end,step).unsqueeze(dim=1)\n",
    "y = weights * X + bias"
   ]
  },
  {
   "cell_type": "markdown",
   "metadata": {},
   "source": [
    "# Data Split To Train And Test Set"
   ]
  },
  {
   "cell_type": "code",
   "execution_count": 3,
   "metadata": {},
   "outputs": [],
   "source": [
    "train_split = int(0.8 * len(X))\n",
    "X_train, y_train = X[:train_split], y[:train_split]\n",
    "X_test, y_test = X[train_split:], y[train_split:]\n",
    "\n",
    " "
   ]
  },
  {
   "attachments": {},
   "cell_type": "markdown",
   "metadata": {},
   "source": [
    "# Data Visualisation"
   ]
  },
  {
   "cell_type": "code",
   "execution_count": 4,
   "metadata": {},
   "outputs": [],
   "source": [
    "def plot_predictions(train_data = X_train, train_labels = y_train, test_data = X_test, test_labels = y_test, predictions = None):\n",
    "    plt.figure(figsize=(10,7))\n",
    "\n",
    "    # plot train data in blue\n",
    "    plt.scatter(train_data,train_labels, c = 'b', s = 4, label = 'Training Data')\n",
    "\n",
    "    # plot test data in green\n",
    "    plt.scatter(test_data,test_labels, c = 'g', s = 4, label = 'Test data')\n",
    "\n",
    "    # are there predictions?\n",
    "    if predictions != None:\n",
    "        plt.scatter(test_data,predictions, c = 'r', s =4, label = 'predictions')"
   ]
  },
  {
   "cell_type": "code",
   "execution_count": 5,
   "metadata": {},
   "outputs": [
    {
     "data": {
      "image/png": "[encoded data removed]",
      "text/plain": [
       "<Figure size 720x504 with 1 Axes>"
      ]
     },
     "metadata": {
      "needs_background": "light"
     },
     "output_type": "display_data"
    }
   ],
   "source": [
    "plot_predictions()"
   ]
  },
  {
   "cell_type": "markdown",
   "metadata": {},
   "source": [
    "# Build Model"
   ]
  },
  {
   "cell_type": "code",
   "execution_count": 6,
   "metadata": {},
   "outputs": [],
   "source": [
    "from torch import nn\n",
    "\n",
    "# Creating a Linear Regression Class\n",
    "class LinearRegressionClass(nn.Module):\n",
    "    def __init__(self):\n",
    "        super().__init__()\n",
    "        self.weights = nn.Parameter(torch.randn(1, requires_grad=True, dtype=torch.float))\n",
    "        self.bias = nn.Parameter(torch.randn(1, requires_grad=True, dtype=torch.float))\n",
    "\n",
    "    \n",
    "    # to define the computation in the model\n",
    "    def forward(self, x:torch.tensor) -> torch.tensor:\n",
    "        return self.weights * x + self.bias \n",
    "\n"
   ]
  },
  {
   "cell_type": "markdown",
   "metadata": {},
   "source": [
    "# Checking the contents of Pytorch model\n",
    "use '.parameters' to check whats inside the model\n"
   ]
  },
  {
   "cell_type": "code",
   "execution_count": 7,
   "metadata": {},
   "outputs": [
    {
     "data": {
      "text/plain": [
       "OrderedDict([('weights', tensor([0.3367])), ('bias', tensor([0.1288]))])"
      ]
     },
     "execution_count": 7,
     "metadata": {},
     "output_type": "execute_result"
    }
   ],
   "source": [
    "# create a random seed to understand values\n",
    "torch.manual_seed(42)\n",
    "\n",
    "# create an object of Linear regression class\n",
    "model_0 = LinearRegressionClass()\n",
    "\n",
    "# check parameters\n",
    "list(model_0.parameters())\n",
    "\n",
    "# list of named parameters -> provides the dictionaries of the parameters of the mdodels\n",
    "model_0.state_dict()"
   ]
  },
  {
   "cell_type": "code",
   "execution_count": 8,
   "metadata": {},
   "outputs": [
    {
     "data": {
      "text/plain": [
       "(0.7, 0.3)"
      ]
     },
     "execution_count": 8,
     "metadata": {},
     "output_type": "execute_result"
    }
   ],
   "source": [
    "# premise of deep learning is to start with random values and get close to these actual values. \n",
    "weights, bias"
   ]
  },
  {
   "cell_type": "markdown",
   "metadata": {},
   "source": [
    "# Make predictions to check how bad the model is"
   ]
  },
  {
   "cell_type": "code",
   "execution_count": 9,
   "metadata": {},
   "outputs": [
    {
     "data": {
      "text/plain": [
       "tensor([[0.3982],\n",
       "        [0.4049],\n",
       "        [0.4116],\n",
       "        [0.4184],\n",
       "        [0.4251],\n",
       "        [0.4318],\n",
       "        [0.4386],\n",
       "        [0.4453],\n",
       "        [0.4520],\n",
       "        [0.4588]])"
      ]
     },
     "execution_count": 9,
     "metadata": {},
     "output_type": "execute_result"
    }
   ],
   "source": [
    "# use torch.inference_mode()\n",
    "with torch.inference_mode():\n",
    "    baseline_y_preds = model_0(X_test)\n",
    "\n",
    "baseline_y_preds"
   ]
  },
  {
   "cell_type": "code",
   "execution_count": 10,
   "metadata": {},
   "outputs": [
    {
     "data": {
      "image/png": "[encoded data removed]",
      "text/plain": [
       "<Figure size 720x504 with 1 Axes>"
      ]
     },
     "metadata": {
      "needs_background": "light"
     },
     "output_type": "display_data"
    }
   ],
   "source": [
    "# we can obsere that with the random weights and bias the predictions are very bad. \n",
    "plot_predictions(predictions = baseline_y_preds)"
   ]
  },
  {
   "attachments": {},
   "cell_type": "markdown",
   "metadata": {},
   "source": [
    "# Training\n",
    "\n",
    "The whole idea of training is for model to move from unknown parameters to good parameters. Move from bad representation of data to good representation of data.\n",
    "\n",
    "Things we need to train:\n",
    "* **Loss function**: A function to measure how wrong the models predictions are to the ideal outputs. Lower is better\n",
    "* **optimizer**: Takes into account the loss of a model and adjust the parameters(weights and biases) to improve the loss the function.\n",
    "    * inside the optimizer you have two set of parameters:\n",
    "        * params - the model parameters that you would like to optimize\n",
    "        * learning rate  - how big the each step needs to be while optimizing.\n",
    "\n",
    "In Pytorch we need:\n",
    "* Training loop\n",
    "* Testing loop\n",
    "\n",
    "Training loop: \n",
    "1. Loop through the data\n",
    "2. set to training mode - this sets grad = true. It allows tracking of gradients.\n",
    "3. Forward pass\n",
    "4. Calculate the loss (compare the forward pass results with ground truth labels)\n",
    "5. Optimize the zero grad\n",
    "6. Loss backwards - move backwards through the network to calculate the gradients of each parameter with respect to the loss\n",
    "7. optimizer step - use the optimizer to adjust the parameters and improve the loss (** Gradient Descent **)\n"
   ]
  },
  {
   "cell_type": "code",
   "execution_count": 11,
   "metadata": {},
   "outputs": [],
   "source": [
    "# See the parameters\n",
    "model_0.state_dict()\n",
    "\n",
    "# set a loss function\n",
    "loss_fn = torch.nn.L1Loss()\n",
    "\n",
    "# create an optimizer\n",
    "optimizer = torch.optim.SGD(params=model_0.parameters(), lr = 0.01) # learning rate"
   ]
  },
  {
   "cell_type": "code",
   "execution_count": 12,
   "metadata": {},
   "outputs": [
    {
     "name": "stdout",
     "output_type": "stream",
     "text": [
      "Epoch number : 0 | train loss : 0.31288138031959534 | test loss : 0.48106518387794495\n",
      "Epoch number : 10 | train loss : 0.1976713240146637 | test loss : 0.3463551998138428\n",
      "Epoch number : 20 | train loss : 0.08908725529909134 | test loss : 0.21729660034179688\n",
      "Epoch number : 30 | train loss : 0.053148526698350906 | test loss : 0.14464017748832703\n",
      "Epoch number : 40 | train loss : 0.04543796554207802 | test loss : 0.11360953003168106\n",
      "Epoch number : 50 | train loss : 0.04167863354086876 | test loss : 0.09919948130846024\n",
      "Epoch number : 60 | train loss : 0.03818932920694351 | test loss : 0.08886633068323135\n",
      "Epoch number : 70 | train loss : 0.03476089984178543 | test loss : 0.0805937647819519\n",
      "Epoch number : 80 | train loss : 0.03132382780313492 | test loss : 0.07232122868299484\n",
      "Epoch number : 90 | train loss : 0.02788739837706089 | test loss : 0.06473556160926819\n",
      "Epoch number : 100 | train loss : 0.024458957836031914 | test loss : 0.05646304413676262\n",
      "Epoch number : 110 | train loss : 0.021020207554101944 | test loss : 0.04819049686193466\n",
      "Epoch number : 120 | train loss : 0.01758546568453312 | test loss : 0.04060482233762741\n",
      "Epoch number : 130 | train loss : 0.014155393466353416 | test loss : 0.03233227878808975\n",
      "Epoch number : 140 | train loss : 0.010716589167714119 | test loss : 0.024059748277068138\n",
      "Epoch number : 150 | train loss : 0.0072835334576666355 | test loss : 0.016474086791276932\n",
      "Epoch number : 160 | train loss : 0.0038517764769494534 | test loss : 0.008201557211577892\n",
      "Epoch number : 170 | train loss : 0.008932482451200485 | test loss : 0.005023092031478882\n",
      "Epoch number : 180 | train loss : 0.008932482451200485 | test loss : 0.005023092031478882\n",
      "Epoch number : 190 | train loss : 0.008932482451200485 | test loss : 0.005023092031478882\n"
     ]
    }
   ],
   "source": [
    "# Building a training loop\n",
    "# epoch is one loop through the data\n",
    "\n",
    "epochs = 200\n",
    "\n",
    "# define list store values\n",
    "epoch_values = []\n",
    "train_loss_values = []\n",
    "test_loss_values = []\n",
    "for epoch in range(epochs):\n",
    "    # set the model to training model. this sets grad = True\n",
    "    model_0.train()\n",
    "\n",
    "    # forward pass\n",
    "    y_pred = model_0(X_train)\n",
    "\n",
    "    # calculate loss \n",
    "    loss = loss_fn(y_pred, y_train)\n",
    "\n",
    "    # optimizer grad zero\n",
    "    optimizer.zero_grad()\n",
    "\n",
    "    # perform back propogation on loss\n",
    "    loss.backward()\n",
    "\n",
    "    # step the optimizer (gradient descent)\n",
    "    optimizer.step() # by default the optimizer changes will accumulate through the loop..so we need to zero them before the next iteration of the loop\n",
    "\n",
    "    # Test loop\n",
    "    # Set model to evalaution mode\n",
    "    model_0.eval()\n",
    "\n",
    "    # turn on inference mode\n",
    "    with torch.inference_mode():\n",
    "\n",
    "        # make forward pass on test data\n",
    "        test_pred = model_0(X_test)\n",
    "\n",
    "        # calculate test loss\n",
    "        test_loss = loss_fn(test_pred, y_test)\n",
    "\n",
    "    if epoch % 10 == 0:\n",
    "        epoch_values.append(epoch)\n",
    "        train_loss_values.append(loss)\n",
    "        test_loss_values.append(test_loss)\n",
    "        print(f\"Epoch number : {epoch} | train loss : {loss} | test loss : {test_loss}\")\n",
    "        \n",
    "\n"
   ]
  },
  {
   "cell_type": "code",
   "execution_count": 13,
   "metadata": {},
   "outputs": [
    {
     "data": {
      "image/png": "[encoded data removed]",
      "text/plain": [
       "<Figure size 720x504 with 1 Axes>"
      ]
     },
     "metadata": {
      "needs_background": "light"
     },
     "output_type": "display_data"
    }
   ],
   "source": [
    "with torch.inference_mode():\n",
    "    y_pred2 = model_0.forward(X_test)\n",
    "\n",
    "plot_predictions(predictions=y_pred2)"
   ]
  },
  {
   "cell_type": "code",
   "execution_count": 14,
   "metadata": {},
   "outputs": [
    {
     "data": {
      "image/png": "[encoded data removed]",
      "text/plain": [
       "<Figure size 432x288 with 1 Axes>"
      ]
     },
     "metadata": {
      "needs_background": "light"
     },
     "output_type": "display_data"
    }
   ],
   "source": [
    "import numpy as np\n",
    "plt.plot(epoch_values, np.array(torch.tensor(train_loss_values).numpy()), label= \"train loss\")\n",
    "plt.plot(epoch_values, np.array(torch.tensor(test_loss_values).numpy()), label= \"test loss\")\n",
    "plt.xlabel(\"epochs\")\n",
    "plt.ylabel(\"loss\")\n",
    "plt.legend();"
   ]
  },
  {
   "cell_type": "markdown",
   "metadata": {},
   "source": [
    "# Save model and loading model\n",
    "\n",
    "There are three main methods you should know about saving and reloading model weights.\n",
    "1. 'Torch.save()' - allows to store a model in pickle format\n",
    "2. 'torch.load()' - allowsto load a pytorch model\n",
    "3. 'torch.nn.module.load_state_dict()' - this allows to load a models saved state dictionary"
   ]
  },
  {
   "cell_type": "code",
   "execution_count": 15,
   "metadata": {},
   "outputs": [],
   "source": [
    "from pathlib import Path\n",
    "\n",
    "# Create a directory \n",
    "MODEL_PATH = Path(\"models\")\n",
    "MODEL_PATH.mkdir(parents=True, exist_ok = True)\n",
    "\n",
    "# model path\n",
    "MODEL_NAME = \"linear-regression-model.pth\"\n",
    "MODEL_SAVE_PATH = MODEL_PATH / MODEL_NAME\n",
    "\n",
    "# save Model\n",
    "torch.save(obj = model_0.state_dict(), f = MODEL_SAVE_PATH)"
   ]
  },
  {
   "cell_type": "code",
   "execution_count": 16,
   "metadata": {},
   "outputs": [
    {
     "data": {
      "text/plain": [
       "<All keys matched successfully>"
      ]
     },
     "execution_count": 16,
     "metadata": {},
     "output_type": "execute_result"
    }
   ],
   "source": [
    "# loading a model and making predictions\n",
    "loaded_model = LinearRegressionClass()\n",
    "\n",
    "loaded_model.load_state_dict(torch.load(f=MODEL_SAVE_PATH))"
   ]
  },
  {
   "cell_type": "code",
   "execution_count": 17,
   "metadata": {},
   "outputs": [
    {
     "data": {
      "text/plain": [
       "tensor([[True],\n",
       "        [True],\n",
       "        [True],\n",
       "        [True],\n",
       "        [True],\n",
       "        [True],\n",
       "        [True],\n",
       "        [True],\n",
       "        [True],\n",
       "        [True]])"
      ]
     },
     "execution_count": 17,
     "metadata": {},
     "output_type": "execute_result"
    }
   ],
   "source": [
    "# make predictions with loaded model. This loaded model has the loaded wights\n",
    "loaded_model.eval()\n",
    "with torch.inference_mode():\n",
    "    loaded_model_y_pred = loaded_model.forward(X_test)\n",
    "\n",
    "# check if the intial predictions are same as the loaded model predictions \n",
    "y_pred2 == loaded_model_y_pred"
   ]
  },
  {
   "cell_type": "markdown",
   "metadata": {},
   "source": [
    "# Improving the above code.\n",
    "\n",
    "In the code above, the parameters like weights and bias were defined. However torch.nn module allows to develop different types of neural network layers that self implement these parameters. Below we will see the updated version of the linear regression class."
   ]
  },
  {
   "cell_type": "code",
   "execution_count": 18,
   "metadata": {},
   "outputs": [],
   "source": [
    "class LinearregressionClassV2(torch.nn.Module):\n",
    "    def __init__(self):\n",
    "        super().__init__()\n",
    "        self.linear_layer = torch.nn.Linear(in_features=1, out_features= 1)\n",
    "\n",
    "    def forward(self, x: torch.tensor) -> torch.tensor:\n",
    "        return self.linear_layer(x)"
   ]
  },
  {
   "cell_type": "code",
   "execution_count": 19,
   "metadata": {},
   "outputs": [
    {
     "data": {
      "text/plain": [
       "OrderedDict([('linear_layer.weight', tensor([[0.7645]])),\n",
       "             ('linear_layer.bias', tensor([0.8300]))])"
      ]
     },
     "execution_count": 19,
     "metadata": {},
     "output_type": "execute_result"
    }
   ],
   "source": [
    "# set manaul_seed\n",
    "torch.manual_seed(42)\n",
    "model_1 = LinearregressionClassV2()\n",
    "model_1.state_dict()"
   ]
  },
  {
   "cell_type": "code",
   "execution_count": 20,
   "metadata": {},
   "outputs": [],
   "source": [
    "loss_fn2 = torch.nn.L1Loss()\n",
    "\n",
    "optim2 = torch.optim.SGD(params = model_1.parameters(), lr= 0.01)"
   ]
  },
  {
   "cell_type": "code",
   "execution_count": 21,
   "metadata": {},
   "outputs": [
    {
     "name": "stdout",
     "output_type": "stream",
     "text": [
      "Epoch number : 0 | train loss : 0.5551779866218567 | test loss : 0.5739762187004089\n",
      "Epoch number : 10 | train loss : 0.4399680495262146 | test loss : 0.4392663538455963\n",
      "Epoch number : 20 | train loss : 0.3247582018375397 | test loss : 0.30455657839775085\n",
      "Epoch number : 30 | train loss : 0.20954827964305878 | test loss : 0.16984674334526062\n",
      "Epoch number : 40 | train loss : 0.09433844685554504 | test loss : 0.03513689711689949\n",
      "Epoch number : 50 | train loss : 0.023886386305093765 | test loss : 0.04784906655550003\n",
      "Epoch number : 60 | train loss : 0.0199567973613739 | test loss : 0.04580312222242355\n",
      "Epoch number : 70 | train loss : 0.016517987474799156 | test loss : 0.0375305712223053\n",
      "Epoch number : 80 | train loss : 0.013089170679450035 | test loss : 0.029944902285933495\n",
      "Epoch number : 90 | train loss : 0.009653178043663502 | test loss : 0.02167237363755703\n",
      "Epoch number : 100 | train loss : 0.006215679459273815 | test loss : 0.014086711220443249\n",
      "Epoch number : 110 | train loss : 0.002787243574857712 | test loss : 0.005814164876937866\n",
      "Epoch number : 120 | train loss : 0.0012645035749301314 | test loss : 0.013801807537674904\n",
      "Epoch number : 130 | train loss : 0.0012645035749301314 | test loss : 0.013801807537674904\n",
      "Epoch number : 140 | train loss : 0.0012645035749301314 | test loss : 0.013801807537674904\n",
      "Epoch number : 150 | train loss : 0.0012645035749301314 | test loss : 0.013801807537674904\n",
      "Epoch number : 160 | train loss : 0.0012645035749301314 | test loss : 0.013801807537674904\n",
      "Epoch number : 170 | train loss : 0.0012645035749301314 | test loss : 0.013801807537674904\n",
      "Epoch number : 180 | train loss : 0.0012645035749301314 | test loss : 0.013801807537674904\n",
      "Epoch number : 190 | train loss : 0.0012645035749301314 | test loss : 0.013801807537674904\n"
     ]
    }
   ],
   "source": [
    "# training loop\n",
    "torch.manual_seed(42)\n",
    "\n",
    "epochs = 200\n",
    "\n",
    "\n",
    "# define list store values\n",
    "epoch_values_2 = []\n",
    "train_loss_values_2 = []\n",
    "test_loss_values_2 = []\n",
    "\n",
    "for epoch in range(epochs):\n",
    "    # set model to train\n",
    "    model_1.train()\n",
    "\n",
    "    # forward pass\n",
    "    model_1_y_pred = model_1.forward(X_train)\n",
    "\n",
    "    # calclate the loss\n",
    "    model_1_loss = loss_fn2(model_1_y_pred, y_train)\n",
    "\n",
    "    # set zero grad\n",
    "    optim2.zero_grad()\n",
    "\n",
    "    # loss backwards\n",
    "    model_1_loss.backward()\n",
    "\n",
    "    # optimizer step\n",
    "    optim2.step()\n",
    "\n",
    "    # set to evaluation mode\n",
    "    model_1.eval()\n",
    "    with torch.inference_mode():\n",
    "        model_1_test_pred = model_1.forward(X_test)\n",
    "\n",
    "        model_1_test_loss = loss_fn2(model_1_test_pred, y_test)\n",
    "\n",
    "    if epoch % 10 == 0:\n",
    "        epoch_values_2.append(epoch)\n",
    "        train_loss_values_2.append(model_1_loss)\n",
    "        test_loss_values_2.append(model_1_test_loss)\n",
    "        print(f\"Epoch number : {epoch} | train loss : {model_1_loss} | test loss : {model_1_test_loss}\")\n",
    "        \n"
   ]
  },
  {
   "cell_type": "code",
   "execution_count": 22,
   "metadata": {},
   "outputs": [
    {
     "data": {
      "text/plain": [
       "OrderedDict([('linear_layer.weight', tensor([[0.6968]])),\n",
       "             ('linear_layer.bias', tensor([0.3025]))])"
      ]
     },
     "execution_count": 22,
     "metadata": {},
     "output_type": "execute_result"
    }
   ],
   "source": [
    "model_1.state_dict()"
   ]
  },
  {
   "cell_type": "code",
   "execution_count": 23,
   "metadata": {},
   "outputs": [
    {
     "data": {
      "text/plain": [
       "(0.7, 0.3)"
      ]
     },
     "execution_count": 23,
     "metadata": {},
     "output_type": "execute_result"
    }
   ],
   "source": [
    "weights, bias"
   ]
  },
  {
   "cell_type": "code",
   "execution_count": 24,
   "metadata": {},
   "outputs": [
    {
     "data": {
      "image/png": "[encoded data removed]",
      "text/plain": [
       "<Figure size 432x288 with 1 Axes>"
      ]
     },
     "metadata": {
      "needs_background": "light"
     },
     "output_type": "display_data"
    }
   ],
   "source": [
    "import numpy as np\n",
    "plt.plot(epoch_values_2, np.array(torch.tensor(train_loss_values_2).numpy()), label= \"train loss\")\n",
    "plt.plot(epoch_values_2, np.array(torch.tensor(test_loss_values_2).numpy()), label= \"test loss\")\n",
    "plt.xlabel(\"epochs\")\n",
    "plt.ylabel(\"loss\")\n",
    "plt.legend();"
   ]
  },
  {
   "cell_type": "code",
   "execution_count": 28,
   "metadata": {},
   "outputs": [
    {
     "data": {
      "image/png": "[encoded data removed]",
      "text/plain": [
       "<Figure size 720x504 with 1 Axes>"
      ]
     },
     "metadata": {
      "needs_background": "light"
     },
     "output_type": "display_data"
    }
   ],
   "source": [
    "with torch.inference_mode():\n",
    "    predictions_2 = model_1.forward(X_test)\n",
    "\n",
    "plot_predictions(predictions=predictions_2)"
   ]
  },
  {
   "cell_type": "markdown",
   "metadata": {},
   "source": [
    "# The above graph does is not showing the test data because of the overlap. In future early stopping and other techniques can be used to train the neural network layer better. \n",
    "\n",
    "### Summary:\n",
    "1. The entire workbook explains the workflow of deep learning projects.\n",
    "2. Get data - > Data pre-processing - > Data split - > Data visualisation - > Build model - > Train model -> Fine tune parameters - > Save model.\n",
    "\n",
    "\n"
   ]
  },
  {
   "cell_type": "markdown",
   "metadata": {},
   "source": []
  }
 ],
 "metadata": {
  "kernelspec": {
   "display_name": "Python 3",
   "language": "python",
   "name": "python3"
  },
  "language_info": {
   "codemirror_mode": {
    "name": "ipython",
    "version": 3
   },
   "file_extension": ".py",
   "mimetype": "text/x-python",
   "name": "python",
   "nbconvert_exporter": "python",
   "pygments_lexer": "ipython3",
   "version": "3.9.10"
  },
  "orig_nbformat": 4,
  "vscode": {
   "interpreter": {
    "hash": "aee8b7b246df8f9039afb4144a1f6fd8d2ca17a180786b69acc140d282b71a49"
   }
  }
 },
 "nbformat": 4,
 "nbformat_minor": 2
}
